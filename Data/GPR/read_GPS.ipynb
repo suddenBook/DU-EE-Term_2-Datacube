{
 "cells": [
  {
   "cell_type": "code",
   "execution_count": null,
   "metadata": {},
   "outputs": [],
   "source": [
    "import os\n",
    "import struct"
   ]
  },
  {
   "cell_type": "code",
   "execution_count": null,
   "metadata": {},
   "outputs": [],
   "source": [
    "def read_dt1_coords(dt1_file, hd_file):\n",
    "    with open(hd_file, 'rb') as f:\n",
    "\n",
    "        header = f.read(1024)\n",
    "        \n",
    "        num_traces = struct.unpack('<h', header[2:4])[0]\n",
    "        traces_per_second = struct.unpack('<h', header[6:8])[0]\n",
    "        num_points = struct.unpack('<h', header[8:10])[0]\n",
    "        \n",
    "    with open(dt1_file, 'rb') as f:\n",
    "        coords = []\n",
    "        for _ in range(num_traces):\n",
    "            x, y, z = struct.unpack('<fff', f.read(12))\n",
    "            coords.append((x, y, z))\n",
    "        \n",
    "    return coords"
   ]
  },
  {
   "cell_type": "code",
   "execution_count": null,
   "metadata": {},
   "outputs": [],
   "source": [
    "dt1_file = './Project12.dt1'\n",
    "hd_file = './Project12.hd'\n",
    "\n",
    "coords = read_dt1_coords(dt1_file, hd_file)"
   ]
  },
  {
   "cell_type": "code",
   "execution_count": null,
   "metadata": {},
   "outputs": [],
   "source": [
    "for coord in coords:\n",
    "    print(f'Easting: {coord[0]}, Northing: {coord[1]}, Elevation: {coord[2]}')"
   ]
  }
 ],
 "metadata": {
  "kernelspec": {
   "display_name": "Python 3",
   "language": "python",
   "name": "python3"
  },
  "language_info": {
   "codemirror_mode": {
    "name": "ipython",
    "version": 3
   },
   "file_extension": ".py",
   "mimetype": "text/x-python",
   "name": "python",
   "nbconvert_exporter": "python",
   "pygments_lexer": "ipython3",
   "version": "3.11.8"
  }
 },
 "nbformat": 4,
 "nbformat_minor": 2
}
