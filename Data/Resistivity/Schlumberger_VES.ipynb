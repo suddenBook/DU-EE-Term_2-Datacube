{
 "cells": [
  {
   "cell_type": "code",
   "execution_count": null,
   "metadata": {},
   "outputs": [],
   "source": [
    "import numpy as np\n",
    "import pandas as pd\n",
    "import matplotlib.pyplot as plt\n",
    "import pygimli as pg\n",
    "from pygimli.viewer.mpl import drawModel1D"
   ]
  },
  {
   "cell_type": "code",
   "execution_count": null,
   "metadata": {},
   "outputs": [],
   "source": [
    "# Clean & Pre-process\n",
    "def clean_and_process_data(filepath):\n",
    "    df = pd.read_csv(filepath)\n",
    "    \n",
    "    def process_row(row):\n",
    "        measurements = row[['m1', 'm2', 'm3', 'm4']]\n",
    "        valid_measurements = measurements[measurements >= 0]\n",
    "        # If less than 3 measurements are valid, return None\n",
    "        if len(valid_measurements) < 3:\n",
    "            return None\n",
    "        \n",
    "        mean = valid_measurements.mean()\n",
    "        std_dev = valid_measurements.std()\n",
    "        return pd.Series([mean, std_dev], index=['mean', 'std_dev'])\n",
    "    \n",
    "    df[['mean', 'std_dev']] = df.apply(process_row, axis=1)\n",
    "    df.dropna(inplace=True)\n",
    "    return df"
   ]
  },
  {
   "cell_type": "code",
   "execution_count": null,
   "metadata": {},
   "outputs": [],
   "source": [
    "df = clean_and_process_data('./input_position_2.csv')"
   ]
  },
  {
   "cell_type": "code",
   "execution_count": null,
   "metadata": {},
   "outputs": [],
   "source": [
    "mn2 = np.array(df['p'])\n",
    "ab2 = np.array(df['c'])\n",
    "rho = np.array(df['mean'])"
   ]
  },
  {
   "cell_type": "code",
   "execution_count": null,
   "metadata": {},
   "outputs": [],
   "source": [
    "# Initialize the forward model with 6 layers\n",
    "nlay = 6\n",
    "f = pg.core.DC1dModelling(nlay, ab2, mn2)\n",
    "paraDepth = max(ab2) / 2.\n",
    "f.region(0).setStartValue(paraDepth / nlay)"
   ]
  },
  {
   "cell_type": "code",
   "execution_count": null,
   "metadata": {},
   "outputs": [],
   "source": [
    "# Apparent Resistivity\n",
    "rhoa = (np.pi / (8 * mn2)) * (ab2**2 - mn2**2) * rho"
   ]
  },
  {
   "cell_type": "code",
   "execution_count": null,
   "metadata": {},
   "outputs": [],
   "source": [
    "# Set inversion parameters\n",
    "transThk = pg.trans.TransLog()\n",
    "transRho = pg.trans.TransLogLU(1, 1000)\n",
    "transRhoa = pg.trans.TransLog()\n",
    "f.region(0).setTransModel(transThk)\n",
    "f.region(1).setTransModel(transRho)\n",
    "paraDepth = max(ab2) / 3.\n",
    "f.region(0).setStartValue(paraDepth / nlay / 2)\n",
    "f.region(1).setStartValue(np.median(rhoa))"
   ]
  },
  {
   "cell_type": "code",
   "execution_count": null,
   "metadata": {},
   "outputs": [],
   "source": [
    "# Configure inversion\n",
    "inv = pg.core.Inversion(rhoa, f, transRhoa, True)\n",
    "inv.setRelativeError(0.002)\n",
    "inv.setLambda(100)\n",
    "inv.setMarquardtScheme(0.8)\n",
    "model = f.createStartVector()\n",
    "inv.setModel(model)\n",
    "model = inv.run()\n",
    "res, thk = model[nlay-1:nlay*2-1], model[0:nlay-1]"
   ]
  },
  {
   "cell_type": "code",
   "execution_count": null,
   "metadata": {},
   "outputs": [],
   "source": [
    "fig, ax = plt.subplots(ncols=2, figsize=(10, 8))\n",
    "drawModel1D(ax[0], thk, res, color='b')\n",
    "ax[0].grid(True, which='both')\n",
    "ax[0].set_ylabel('Depth (m)')\n",
    "ax[0].set_xlabel('Resistivity (Ωm)')\n",
    "ax[1].loglog(rhoa, ab2, 'rx-', label='Measured Data')\n",
    "ax[1].loglog(inv.response(), ab2, 'b-', label='Model Response')\n",
    "ax[1].set_ylim((max(ab2), min(ab2)))\n",
    "ax[1].grid(True, which='both')\n",
    "ax[1].set_xlabel('Apparent Resistivity (Ωm)')\n",
    "ax[1].set_ylabel('AB/2 (m)')\n",
    "ax[1].legend(loc='best')\n",
    "plt.show()"
   ]
  }
 ],
 "metadata": {
  "kernelspec": {
   "display_name": "Python 3",
   "language": "python",
   "name": "python3"
  },
  "language_info": {
   "codemirror_mode": {
    "name": "ipython",
    "version": 3
   },
   "file_extension": ".py",
   "mimetype": "text/x-python",
   "name": "python",
   "nbconvert_exporter": "python",
   "pygments_lexer": "ipython3",
   "version": "3.11.8"
  }
 },
 "nbformat": 4,
 "nbformat_minor": 2
}
